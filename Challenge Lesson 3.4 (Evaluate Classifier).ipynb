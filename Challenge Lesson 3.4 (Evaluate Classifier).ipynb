{
 "cells": [
  {
   "cell_type": "code",
   "execution_count": 1,
   "metadata": {
    "collapsed": true
   },
   "outputs": [],
   "source": [
    "%matplotlib inline\n",
    "import numpy as np\n",
    "import pandas as pd\n",
    "import scipy\n",
    "import sklearn\n",
    "import matplotlib.pyplot as plt\n",
    "import seaborn as sns"
   ]
  },
  {
   "cell_type": "code",
   "execution_count": 2,
   "metadata": {
    "collapsed": true
   },
   "outputs": [],
   "source": [
    "amazon_data = ('amazon_cells_labelled.txt')\n",
    "yelp_data = ('yelp_labelled.txt')\n",
    "imdb_data = ('imdb_labelled.txt')\n",
    "\n",
    "df = pd.read_table(amazon_data, header = None)\n",
    "# Positive Review => 1\n",
    "# Negative Review => 0\n",
    "df.columns = ['Reviews', 'Rating']"
   ]
  },
  {
   "cell_type": "code",
   "execution_count": 3,
   "metadata": {},
   "outputs": [
    {
     "data": {
      "text/html": [
       "<div>\n",
       "<style>\n",
       "    .dataframe thead tr:only-child th {\n",
       "        text-align: right;\n",
       "    }\n",
       "\n",
       "    .dataframe thead th {\n",
       "        text-align: left;\n",
       "    }\n",
       "\n",
       "    .dataframe tbody tr th {\n",
       "        vertical-align: top;\n",
       "    }\n",
       "</style>\n",
       "<table border=\"1\" class=\"dataframe\">\n",
       "  <thead>\n",
       "    <tr style=\"text-align: right;\">\n",
       "      <th></th>\n",
       "      <th>Reviews</th>\n",
       "      <th>Rating</th>\n",
       "    </tr>\n",
       "  </thead>\n",
       "  <tbody>\n",
       "    <tr>\n",
       "      <th>0</th>\n",
       "      <td>So there is no way for me to plug it in here i...</td>\n",
       "      <td>True</td>\n",
       "    </tr>\n",
       "    <tr>\n",
       "      <th>1</th>\n",
       "      <td>Good case, Excellent value.</td>\n",
       "      <td>False</td>\n",
       "    </tr>\n",
       "    <tr>\n",
       "      <th>2</th>\n",
       "      <td>Great for the jawbone.</td>\n",
       "      <td>False</td>\n",
       "    </tr>\n",
       "    <tr>\n",
       "      <th>3</th>\n",
       "      <td>Tied to charger for conversations lasting more...</td>\n",
       "      <td>True</td>\n",
       "    </tr>\n",
       "    <tr>\n",
       "      <th>4</th>\n",
       "      <td>The mic is great.</td>\n",
       "      <td>False</td>\n",
       "    </tr>\n",
       "  </tbody>\n",
       "</table>\n",
       "</div>"
      ],
      "text/plain": [
       "                                             Reviews  Rating\n",
       "0  So there is no way for me to plug it in here i...    True\n",
       "1                        Good case, Excellent value.   False\n",
       "2                             Great for the jawbone.   False\n",
       "3  Tied to charger for conversations lasting more...    True\n",
       "4                                  The mic is great.   False"
      ]
     },
     "execution_count": 3,
     "metadata": {},
     "output_type": "execute_result"
    }
   ],
   "source": [
    "# Do not run a second time\n",
    "# Wants to find negative reviews\n",
    "df['Rating'] = (df['Rating'] == 0)\n",
    "df.head()"
   ]
  },
  {
   "cell_type": "code",
   "execution_count": 4,
   "metadata": {},
   "outputs": [
    {
     "data": {
      "text/plain": [
       "<matplotlib.axes._subplots.AxesSubplot at 0x26b83bf2b70>"
      ]
     },
     "execution_count": 4,
     "metadata": {},
     "output_type": "execute_result"
    },
    {
     "data": {
      "image/png": "[encoded data removed]",
      "text/plain": [
       "<matplotlib.figure.Figure at 0x26b83bf2240>"
      ]
     },
     "metadata": {},
     "output_type": "display_data"
    }
   ],
   "source": [
    "# some keywords only works better for certain data\n",
    "## 'junk' -> better for amazon data\n",
    "negative_key = ['bad', 'worst', 'disappointed', 'disappointment', 'wasted', 'waste', 'do not', 'not', 'junk', 'average']\n",
    "\n",
    "#Find these keywords that represent negative reviews\n",
    "for key in negative_key:\n",
    "    df[str(key)] = df.Reviews.str.contains('' + str(key) + '', case = False)\n",
    "    \n",
    "## DO NOT run a second time!!\n",
    "\n",
    "# combine the varibles that are highly correlated\n",
    "# 'do not' + 'not' \n",
    "df.loc[((df['do not'] == True) | (df['not'] == True) ), 'not'] = True\n",
    "df = df.drop(['do not'], axis = 1)\n",
    "\n",
    "# 'wasted' + 'waste'\n",
    "df.loc[((df['wasted'] == True) | (df['waste'] == True)), 'waste'] = True\n",
    "df = df.drop(['wasted'], axis = 1)\n",
    "\n",
    "# 'bad' + 'average' \n",
    "#df.loc[((df['bad'] == True) | (df['average'] == True) ), 'bad'] = True\n",
    "#df = df.drop(['average'], axis = 1)\n",
    "\n",
    "\n",
    "# remove the unwanted variables from list\n",
    "negative_key.remove('do not')\n",
    "negative_key.remove('wasted')\n",
    "#negative_key.remove('average')\n",
    "\n",
    "# after combining the two highly correlated variableds\n",
    "sns.heatmap(df.corr())"
   ]
  },
  {
   "cell_type": "code",
   "execution_count": 9,
   "metadata": {
    "collapsed": true
   },
   "outputs": [],
   "source": [
    "# set targeted variables and features\n",
    "features = df[negative_key]\n",
    "target = df['Rating']"
   ]
  },
  {
   "cell_type": "code",
   "execution_count": 10,
   "metadata": {},
   "outputs": [
    {
     "name": "stdout",
     "output_type": "stream",
     "text": [
      "Number of mislabeled points out of a total 1000 points : 344\n",
      "The mislabeled points proportion : 0.3440\n"
     ]
    }
   ],
   "source": [
    "# Our data is binary / boolean, so we're importing the Bernoulli classifier.\n",
    "from sklearn.naive_bayes import BernoulliNB\n",
    "\n",
    "# Instantiate our model and store it in a new variable.\n",
    "bnb = BernoulliNB()\n",
    "\n",
    "# Classify, storing the result in a new variable.\n",
    "y_pred = bnb.fit(features, target).predict(features)\n",
    "\n",
    "# Display our results.\n",
    "print(\"Number of mislabeled points out of a total {} points : {}\".format(\n",
    "    features.shape[0],\n",
    "    (target != y_pred).sum()\n",
    "))\n",
    "print('The mislabeled points proportion : {0:.4f}'.format(\n",
    "    (target != y_pred).sum() / \n",
    "    features.shape[0]))"
   ]
  },
  {
   "cell_type": "markdown",
   "metadata": {},
   "source": [
    "# Holdout Group\n"
   ]
  },
  {
   "cell_type": "code",
   "execution_count": 17,
   "metadata": {},
   "outputs": [],
   "source": [
    "per_90 = int(len(features) * 0.9)\n",
    "\n",
    "rows = list(np.random.choice(features.index, per_90, replace = False))\n",
    "rows = pd.to_numeric(rows).astype(int)\n",
    "\n",
    "features_90 = features.loc[rows]       #training set\n",
    "target_90 = target.loc[rows]\n",
    "\n",
    "features_10 = features.drop(features.index[rows])     #testing set\n",
    "target_10 = target.drop(target.index[rows])"
   ]
  },
  {
   "cell_type": "code",
   "execution_count": 20,
   "metadata": {
    "scrolled": true
   },
   "outputs": [
    {
     "name": "stdout",
     "output_type": "stream",
     "text": [
      "accuracy rate for features_90: 0.6633\n",
      "accuracy rate  for features_10: 0.5900\n"
     ]
    }
   ],
   "source": [
    "# training set\n",
    "bnb = BernoulliNB()\n",
    "y_pred_90 = bnb.fit(features_90, target_90).predict(features_90)\n",
    "print('accuracy rate for features_90: {0:.4f}'.format(\n",
    "     ( 1 - (y_pred_90 != target_90).sum() / \n",
    "      target_90.shape[0])))\n",
    "\n",
    "# testing set\n",
    "# run with features_10, in theory should be lower than the result from features_90\n",
    "bnb = BernoulliNB()\n",
    "y_pred_10 = bnb.fit(features_10, target_10).predict(features_10)\n",
    "print('accuracy rate  for features_10: {0:.4f}'.format(\n",
    "     ( 1 - (y_pred_10 != target_10).sum() / \n",
    "      target_10.shape[0])))"
   ]
  },
  {
   "cell_type": "markdown",
   "metadata": {},
   "source": [
    "# Cross Validation"
   ]
  },
  {
   "cell_type": "code",
   "execution_count": 21,
   "metadata": {
    "collapsed": true
   },
   "outputs": [],
   "source": [
    "from sklearn.model_selection import StratifiedKFold\n",
    "skf = StratifiedKFold(n_splits=3)"
   ]
  },
  {
   "cell_type": "code",
   "execution_count": 25,
   "metadata": {},
   "outputs": [
    {
     "name": "stdout",
     "output_type": "stream",
     "text": [
      "accuracy rate (training set):  0.6471\n",
      "accuracy rate (testing set):  0.6737\n",
      "\n",
      "\n",
      "accuracy rate (training set):  0.6607\n",
      "accuracy rate (testing set):  0.6467\n",
      "\n",
      "\n",
      "accuracy rate (training set):  0.6602\n",
      "accuracy rate (testing set):  0.6476\n",
      "\n",
      "\n"
     ]
    }
   ],
   "source": [
    "for train, test in skf.split(features, target):    \n",
    "    features_train = features.loc[train]       #training set\n",
    "    target_train = target.loc[train]\n",
    "    \n",
    "    features_test = features.drop(features.index[train])       #testing set\n",
    "    target_test = target.drop(target.index[train])\n",
    "    \n",
    "    bnb = BernoulliNB()\n",
    "    y_pred_train = bnb.fit(features_train, target_train).predict(features_train)\n",
    "    print('accuracy rate (training set): {0: .4f}' .format(\n",
    "         ( 1 - (y_pred_train != target_train).sum() / \n",
    "         target_train.shape[0])))\n",
    "    \n",
    "    y_pred_test = bnb.fit(features_test, target_test).predict(features_test)\n",
    "    print('accuracy rate (testing set): {0: .4f}' .format(\n",
    "         ( 1 - (y_pred_test != target_test).sum() /\n",
    "         target_test.shape[0])))\n",
    "    print('\\n')"
   ]
  },
  {
   "cell_type": "code",
   "execution_count": null,
   "metadata": {
    "collapsed": true
   },
   "outputs": [],
   "source": []
  }
 ],
 "metadata": {
  "kernelspec": {
   "display_name": "Python 3",
   "language": "python",
   "name": "python3"
  },
  "language_info": {
   "codemirror_mode": {
    "name": "ipython",
    "version": 3
   },
   "file_extension": ".py",
   "mimetype": "text/x-python",
   "name": "python",
   "nbconvert_exporter": "python",
   "pygments_lexer": "ipython3",
   "version": "3.6.1"
  }
 },
 "nbformat": 4,
 "nbformat_minor": 2
}
