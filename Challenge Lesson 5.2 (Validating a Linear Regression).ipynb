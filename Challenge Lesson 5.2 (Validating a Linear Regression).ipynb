{
 "cells": [
  {
   "cell_type": "code",
   "execution_count": 70,
   "metadata": {
    "collapsed": true
   },
   "outputs": [],
   "source": [
    "import math\n",
    "import warnings\n",
    "import numpy as np\n",
    "import pandas as pd\n",
    "import seaborn as sns\n",
    "import statsmodels.formula.api as smf\n",
    "\n",
    "from matplotlib import pyplot as plt\n",
    "from statsmodels.sandbox.regression.predstd import wls_prediction_std\n",
    "from sklearn import linear_model\n",
    "from sklearn import preprocessing\n",
    "from IPython.display import display"
   ]
  },
  {
   "cell_type": "code",
   "execution_count": 71,
   "metadata": {
    "collapsed": true
   },
   "outputs": [],
   "source": [
    "%matplotlib inline\n",
    "# Suppress annoying harmless error.\n",
    "warnings.filterwarnings(\n",
    "    action=\"ignore\",\n",
    "    module=\"scipy\",\n",
    "    message=\"^internal gelsd\"\n",
    ")"
   ]
  },
  {
   "cell_type": "code",
   "execution_count": 137,
   "metadata": {
    "collapsed": true
   },
   "outputs": [],
   "source": [
    "# import csv file\n",
    "df = pd.read_csv('2014_NEW_YORK_Offenses_Known_to_Law_Enforcement.csv')\n",
    "#df = pd.read_csv('https://raw.githubusercontent.com/Thinkful-Ed/data-201-resources/master' +\n",
    "#                 '/New_York_offenses/NEW_YORK-Offenses_Known_to_Law_Enforcement_by_City_2013%20-%2013tbl8ny.csv')\n",
    "\n",
    "\n",
    "# clean up the dataframe\n",
    "df = df.drop([0,1,2])\n",
    "df = df.rename(columns=df.iloc[0])\n",
    "df = df.rename(columns = {'Murder and\\nnonnegligent\\nmanslaughter':'Murder',\n",
    "                          'Aggravated\\nassault':'Aggravated_Assault',\n",
    "                          'Property\\ncrime':'Property_Crime',\n",
    "                          'Larceny-\\ntheft':'Larceny_Theft',\n",
    "                          'Motor\\nvehicle\\ntheft':'Motor_Theft',\n",
    "                          'Arson3': 'Arson'})\n",
    "df = df.drop([3])\n",
    "df = df.reset_index(drop = True)\n",
    "df.drop(df.columns[len(df.columns)-1], axis=1, inplace=True)"
   ]
  },
  {
   "cell_type": "code",
   "execution_count": 138,
   "metadata": {},
   "outputs": [
    {
     "data": {
      "text/html": [
       "<div>\n",
       "<style>\n",
       "    .dataframe thead tr:only-child th {\n",
       "        text-align: right;\n",
       "    }\n",
       "\n",
       "    .dataframe thead th {\n",
       "        text-align: left;\n",
       "    }\n",
       "\n",
       "    .dataframe tbody tr th {\n",
       "        vertical-align: top;\n",
       "    }\n",
       "</style>\n",
       "<table border=\"1\" class=\"dataframe\">\n",
       "  <thead>\n",
       "    <tr style=\"text-align: right;\">\n",
       "      <th></th>\n",
       "      <th>City</th>\n",
       "      <th>Population</th>\n",
       "      <th>Violent\n",
       "crime</th>\n",
       "      <th>Murder</th>\n",
       "      <th>Rape\n",
       "(revised\n",
       "definition)1</th>\n",
       "      <th>Rape\n",
       "(legacy\n",
       "definition)2</th>\n",
       "      <th>Robbery</th>\n",
       "      <th>Aggravated_Assault</th>\n",
       "      <th>Property_Crime</th>\n",
       "      <th>Burglary</th>\n",
       "      <th>Larceny_Theft</th>\n",
       "      <th>Motor_Theft</th>\n",
       "      <th>Arson</th>\n",
       "    </tr>\n",
       "  </thead>\n",
       "  <tbody>\n",
       "    <tr>\n",
       "      <th>0</th>\n",
       "      <td>Adams Village</td>\n",
       "      <td>1851.0</td>\n",
       "      <td>0</td>\n",
       "      <td>0</td>\n",
       "      <td>NaN</td>\n",
       "      <td>0</td>\n",
       "      <td>0</td>\n",
       "      <td>0.0</td>\n",
       "      <td>11.0</td>\n",
       "      <td>1.0</td>\n",
       "      <td>10.0</td>\n",
       "      <td>0</td>\n",
       "      <td>0.0</td>\n",
       "    </tr>\n",
       "    <tr>\n",
       "      <th>1</th>\n",
       "      <td>Addison Town and Village</td>\n",
       "      <td>2568.0</td>\n",
       "      <td>2</td>\n",
       "      <td>0</td>\n",
       "      <td>NaN</td>\n",
       "      <td>0</td>\n",
       "      <td>1</td>\n",
       "      <td>1.0</td>\n",
       "      <td>49.0</td>\n",
       "      <td>1.0</td>\n",
       "      <td>47.0</td>\n",
       "      <td>1</td>\n",
       "      <td>0.0</td>\n",
       "    </tr>\n",
       "    <tr>\n",
       "      <th>2</th>\n",
       "      <td>Afton Village4</td>\n",
       "      <td>820.0</td>\n",
       "      <td>0</td>\n",
       "      <td>0</td>\n",
       "      <td>0</td>\n",
       "      <td>NaN</td>\n",
       "      <td>0</td>\n",
       "      <td>0.0</td>\n",
       "      <td>1.0</td>\n",
       "      <td>0.0</td>\n",
       "      <td>1.0</td>\n",
       "      <td>0</td>\n",
       "      <td>0.0</td>\n",
       "    </tr>\n",
       "    <tr>\n",
       "      <th>3</th>\n",
       "      <td>Akron Village</td>\n",
       "      <td>2842.0</td>\n",
       "      <td>1</td>\n",
       "      <td>0</td>\n",
       "      <td>NaN</td>\n",
       "      <td>0</td>\n",
       "      <td>0</td>\n",
       "      <td>1.0</td>\n",
       "      <td>17.0</td>\n",
       "      <td>0.0</td>\n",
       "      <td>17.0</td>\n",
       "      <td>0</td>\n",
       "      <td>0.0</td>\n",
       "    </tr>\n",
       "    <tr>\n",
       "      <th>4</th>\n",
       "      <td>Albany4</td>\n",
       "      <td>98595.0</td>\n",
       "      <td>802</td>\n",
       "      <td>8</td>\n",
       "      <td>54</td>\n",
       "      <td>NaN</td>\n",
       "      <td>237</td>\n",
       "      <td>503.0</td>\n",
       "      <td>3888.0</td>\n",
       "      <td>683.0</td>\n",
       "      <td>3083.0</td>\n",
       "      <td>122</td>\n",
       "      <td>12.0</td>\n",
       "    </tr>\n",
       "  </tbody>\n",
       "</table>\n",
       "</div>"
      ],
      "text/plain": [
       "                       City  Population Violent\\ncrime Murder  \\\n",
       "0             Adams Village      1851.0              0      0   \n",
       "1  Addison Town and Village      2568.0              2      0   \n",
       "2            Afton Village4       820.0              0      0   \n",
       "3             Akron Village      2842.0              1      0   \n",
       "4                   Albany4     98595.0            802      8   \n",
       "\n",
       "  Rape\\n(revised\\ndefinition)1 Rape\\n(legacy\\ndefinition)2 Robbery  \\\n",
       "0                          NaN                           0       0   \n",
       "1                          NaN                           0       1   \n",
       "2                            0                         NaN       0   \n",
       "3                          NaN                           0       0   \n",
       "4                           54                         NaN     237   \n",
       "\n",
       "   Aggravated_Assault  Property_Crime  Burglary  Larceny_Theft Motor_Theft  \\\n",
       "0                 0.0            11.0       1.0           10.0           0   \n",
       "1                 1.0            49.0       1.0           47.0           1   \n",
       "2                 0.0             1.0       0.0            1.0           0   \n",
       "3                 1.0            17.0       0.0           17.0           0   \n",
       "4               503.0          3888.0     683.0         3083.0         122   \n",
       "\n",
       "   Arson  \n",
       "0    0.0  \n",
       "1    0.0  \n",
       "2    0.0  \n",
       "3    0.0  \n",
       "4   12.0  "
      ]
     },
     "execution_count": 138,
     "metadata": {},
     "output_type": "execute_result"
    }
   ],
   "source": [
    "# Change Population from object to int\n",
    "df['Population'] = df['Population'].str.replace(',', '')\n",
    "df['Population'] = pd.to_numeric(df['Population']).astype(float)\n",
    "\n",
    "# Set up 'Murder', 'Robbery' and 'Property Crime' for later use\n",
    "df['Murder'] = df['Murder'].str.replace(',', '')\n",
    "df['Robbery'] = df['Robbery'].str.replace(',', '')\n",
    "\n",
    "df['Aggravated_Assault'] = df['Aggravated_Assault'].str.replace(',', '')\n",
    "df['Aggravated_Assault'] = pd.to_numeric(df['Aggravated_Assault']).astype(float)\n",
    "\n",
    "df['Burglary'] = df['Burglary'].str.replace(',', '')\n",
    "df['Burglary'] = pd.to_numeric(df['Burglary']).astype(float)\n",
    "\n",
    "df['Larceny_Theft'] = df['Larceny_Theft'].str.replace(',', '')\n",
    "df['Larceny_Theft'] = pd.to_numeric(df['Larceny_Theft']).astype(float)\n",
    "\n",
    "df['Arson'] = df['Arson'].str.replace(',', '')\n",
    "df['Arson'] = pd.to_numeric(df['Arson']).astype(float)\n",
    "\n",
    "df['Property_Crime'] = df['Property_Crime'].str.replace(',', '')\n",
    "df['Property_Crime'] = pd.to_numeric(df['Property_Crime']).astype(float)\n",
    "\n",
    "df.head()"
   ]
  },
  {
   "cell_type": "code",
   "execution_count": 139,
   "metadata": {},
   "outputs": [
    {
     "name": "stdout",
     "output_type": "stream",
     "text": [
      "369\n"
     ]
    }
   ],
   "source": [
    "# Create a Feature dataframe\n",
    "features = pd.DataFrame()\n",
    "\n",
    "# set 'Population' and 'Population^2' as feature\n",
    "## in feature, the values will be in thousands\n",
    "features['Population'] = (df['Population']).dropna()\n",
    "features['Population_Squared'] = features['Population']**2\n",
    "\n",
    "# set 'Murder' and 'Robbery' as feature\n",
    "# coded any number > 0 as 1\n",
    "# coded any number = 0 as 0\n",
    "features['Murder'] = df['Murder'].dropna()\n",
    "features['Murder'] = features['Murder'].str.contains('0').apply(lambda x:0 if x else 1)\n",
    "\n",
    "features['Robbery'] = df['Robbery'].dropna()\n",
    "features['Robbery'] = features['Robbery'].str.contains('0').apply(lambda x:0 if x else 1)\n",
    "\n",
    "features['Aggravated_Assault'] = df['Aggravated_Assault'].dropna()\n",
    "features['Burglary'] = df['Burglary'].dropna()\n",
    "features['Larceny_Theft'] = df['Larceny_Theft'].dropna()\n",
    "features['Arson'] = df['Arson'].dropna()\n",
    "\n",
    "# add 'Property Crime' as targeted variable in feature dataframe\n",
    "features['Property_Crime'] = df['Property_Crime']\n",
    "\n",
    "features.head()\n",
    "print(len(features))"
   ]
  },
  {
   "cell_type": "code",
   "execution_count": 140,
   "metadata": {},
   "outputs": [
    {
     "data": {
      "image/png": "[encoded data removed]",
      "text/plain": [
       "<matplotlib.figure.Figure at 0x24fc6b75c50>"
      ]
     },
     "metadata": {},
     "output_type": "display_data"
    }
   ],
   "source": [
    "# Instantiate our model.\n",
    "regr = linear_model.LinearRegression()\n",
    "Y = features['Property_Crime'].values.reshape(-1, 1)\n",
    "X = features[['Population', 'Population_Squared', 'Murder', 'Robbery',\n",
    "              'Aggravated_Assault', 'Burglary', 'Larceny_Theft', 'Arson']]\n",
    "\n",
    "# Plot scatter graph to identify outliers\n",
    "plt.scatter(Y, X['Population'])\n",
    "plt.title('Raw values')\n",
    "plt.show()"
   ]
  },
  {
   "cell_type": "code",
   "execution_count": 141,
   "metadata": {},
   "outputs": [
    {
     "name": "stdout",
     "output_type": "stream",
     "text": [
      "     Population  Population_Squared  Murder  Robbery  Aggravated_Assault  \\\n",
      "227   8473938.0        7.180763e+13       1        1             31460.0   \n",
      "\n",
      "     Burglary  Larceny_Theft  Arson  Property_Crime  \n",
      "227   15916.0       112107.0    NaN        135747.0  \n"
     ]
    }
   ],
   "source": [
    "# Remove the outlier\n",
    "loc = features.loc[lambda x: features['Population'] == features['Population'].max()]\n",
    "print(loc)\n",
    "features = features.drop(loc.index)"
   ]
  },
  {
   "cell_type": "code",
   "execution_count": 142,
   "metadata": {},
   "outputs": [
    {
     "data": {
      "image/png": "[encoded data removed]",
      "text/plain": [
       "<matplotlib.figure.Figure at 0x24fc691e198>"
      ]
     },
     "metadata": {},
     "output_type": "display_data"
    }
   ],
   "source": [
    "# Instantiate our model.\n",
    "regr = linear_model.LinearRegression()\n",
    "Y = features['Property_Crime'].values.reshape(-1, 1)\n",
    "X = features[['Population', 'Population_Squared', 'Murder', 'Robbery',\n",
    "              'Aggravated_Assault', 'Burglary', 'Larceny_Theft', 'Arson']]\n",
    "\n",
    "# Re-Plot scatter graph to identify outliers\n",
    "plt.scatter(Y, X['Population'])\n",
    "plt.title('Raw values')\n",
    "plt.show()"
   ]
  },
  {
   "cell_type": "markdown",
   "metadata": {},
   "source": [
    "    Want to keep the dataset within \n",
    "        Property Crime = 4000 and Population = 100000\n",
    "        in order to get rid of more outliers        "
   ]
  },
  {
   "cell_type": "code",
   "execution_count": 143,
   "metadata": {},
   "outputs": [
    {
     "name": "stdout",
     "output_type": "stream",
     "text": [
      "     Population  Population_Squared  Murder  Robbery  Aggravated_Assault  \\\n",
      "9      118860.0        1.412770e+10       1        1                68.0   \n",
      "38     258419.0        6.678038e+10       0        1              1663.0   \n",
      "283    210347.0        4.424586e+10       1        1               850.0   \n",
      "326    144534.0        2.089008e+10       0        0               668.0   \n",
      "366    200624.0        4.024999e+10       1        1               580.0   \n",
      "\n",
      "     Burglary  Larceny_Theft  Arson  Property_Crime  \n",
      "9       176.0         1846.0    2.0          2066.0  \n",
      "38     3119.0         8362.0    NaN         12449.0  \n",
      "283    2125.0         6058.0  135.0          8856.0  \n",
      "326    1404.0         3986.0   57.0          5755.0  \n",
      "366     414.0         1395.0   15.0          2009.0  \n"
     ]
    }
   ],
   "source": [
    "# Remove the outlier on the y-axis\n",
    "loc = features.loc[lambda x: features['Population'] > 100000]\n",
    "print(loc)\n",
    "features = features.drop(loc.index)"
   ]
  },
  {
   "cell_type": "code",
   "execution_count": 144,
   "metadata": {},
   "outputs": [
    {
     "data": {
      "image/png": "[encoded data removed]",
      "text/plain": [
       "<matplotlib.figure.Figure at 0x24fc7382f60>"
      ]
     },
     "metadata": {},
     "output_type": "display_data"
    }
   ],
   "source": [
    "# Remove null values\n",
    "features = features.dropna()\n",
    "\n",
    "# Instantiate our model.\n",
    "regr = linear_model.LinearRegression()\n",
    "Y = features['Property_Crime'].values.reshape(-1, 1)\n",
    "X = features[['Population', 'Population_Squared', 'Murder', 'Robbery', 'Aggravated_Assault', 'Burglary', 'Larceny_Theft', 'Arson']]\n",
    "\n",
    "# Re-Plot scatter graph to identify outliers\n",
    "plt.scatter(Y, X['Population'])\n",
    "plt.title('Raw values')\n",
    "plt.show()"
   ]
  },
  {
   "cell_type": "code",
   "execution_count": 145,
   "metadata": {},
   "outputs": [
    {
     "name": "stdout",
     "output_type": "stream",
     "text": [
      "\n",
      "Coefficients: \n",
      " [[  3.24554351e-04   4.50542400e-11   5.54939303e-01  -1.74080515e+00\n",
      "    1.65595178e-01   1.10145765e+00   9.92842923e-01  -2.00439079e-01]]\n",
      "\n",
      "Intercept: \n",
      " [-0.93046604]\n",
      "\n",
      "R-squared:\n",
      "0.999727015732\n"
     ]
    }
   ],
   "source": [
    "# Fit the data into a model\n",
    "regr.fit(X, Y)\n",
    "\n",
    "# Inspect the results.\n",
    "print('\\nCoefficients: \\n', regr.coef_)\n",
    "print('\\nIntercept: \\n', regr.intercept_)\n",
    "print('\\nR-squared:')\n",
    "print(regr.score(X, Y))"
   ]
  },
  {
   "cell_type": "code",
   "execution_count": 146,
   "metadata": {
    "scrolled": false
   },
   "outputs": [
    {
     "data": {
      "text/html": [
       "<div>\n",
       "<style>\n",
       "    .dataframe thead tr:only-child th {\n",
       "        text-align: right;\n",
       "    }\n",
       "\n",
       "    .dataframe thead th {\n",
       "        text-align: left;\n",
       "    }\n",
       "\n",
       "    .dataframe tbody tr th {\n",
       "        vertical-align: top;\n",
       "    }\n",
       "</style>\n",
       "<table border=\"1\" class=\"dataframe\">\n",
       "  <thead>\n",
       "    <tr style=\"text-align: right;\">\n",
       "      <th></th>\n",
       "      <th>Population</th>\n",
       "      <th>Population_Squared</th>\n",
       "      <th>Murder</th>\n",
       "      <th>Robbery</th>\n",
       "      <th>Aggravated_Assault</th>\n",
       "      <th>Burglary</th>\n",
       "      <th>Larceny_Theft</th>\n",
       "      <th>Arson</th>\n",
       "    </tr>\n",
       "  </thead>\n",
       "  <tbody>\n",
       "    <tr>\n",
       "      <th>Population</th>\n",
       "      <td>1.000000</td>\n",
       "      <td>0.921278</td>\n",
       "      <td>0.560942</td>\n",
       "      <td>0.446352</td>\n",
       "      <td>0.634527</td>\n",
       "      <td>0.723548</td>\n",
       "      <td>0.850718</td>\n",
       "      <td>0.503494</td>\n",
       "    </tr>\n",
       "    <tr>\n",
       "      <th>Population_Squared</th>\n",
       "      <td>0.921278</td>\n",
       "      <td>1.000000</td>\n",
       "      <td>0.484174</td>\n",
       "      <td>0.286194</td>\n",
       "      <td>0.629204</td>\n",
       "      <td>0.682941</td>\n",
       "      <td>0.821406</td>\n",
       "      <td>0.434528</td>\n",
       "    </tr>\n",
       "    <tr>\n",
       "      <th>Murder</th>\n",
       "      <td>0.560942</td>\n",
       "      <td>0.484174</td>\n",
       "      <td>1.000000</td>\n",
       "      <td>0.270912</td>\n",
       "      <td>0.547073</td>\n",
       "      <td>0.582774</td>\n",
       "      <td>0.571495</td>\n",
       "      <td>0.456012</td>\n",
       "    </tr>\n",
       "    <tr>\n",
       "      <th>Robbery</th>\n",
       "      <td>0.446352</td>\n",
       "      <td>0.286194</td>\n",
       "      <td>0.270912</td>\n",
       "      <td>1.000000</td>\n",
       "      <td>0.249712</td>\n",
       "      <td>0.329743</td>\n",
       "      <td>0.392812</td>\n",
       "      <td>0.247426</td>\n",
       "    </tr>\n",
       "    <tr>\n",
       "      <th>Aggravated_Assault</th>\n",
       "      <td>0.634527</td>\n",
       "      <td>0.629204</td>\n",
       "      <td>0.547073</td>\n",
       "      <td>0.249712</td>\n",
       "      <td>1.000000</td>\n",
       "      <td>0.913009</td>\n",
       "      <td>0.750749</td>\n",
       "      <td>0.704053</td>\n",
       "    </tr>\n",
       "    <tr>\n",
       "      <th>Burglary</th>\n",
       "      <td>0.723548</td>\n",
       "      <td>0.682941</td>\n",
       "      <td>0.582774</td>\n",
       "      <td>0.329743</td>\n",
       "      <td>0.913009</td>\n",
       "      <td>1.000000</td>\n",
       "      <td>0.876253</td>\n",
       "      <td>0.776501</td>\n",
       "    </tr>\n",
       "    <tr>\n",
       "      <th>Larceny_Theft</th>\n",
       "      <td>0.850718</td>\n",
       "      <td>0.821406</td>\n",
       "      <td>0.571495</td>\n",
       "      <td>0.392812</td>\n",
       "      <td>0.750749</td>\n",
       "      <td>0.876253</td>\n",
       "      <td>1.000000</td>\n",
       "      <td>0.627176</td>\n",
       "    </tr>\n",
       "    <tr>\n",
       "      <th>Arson</th>\n",
       "      <td>0.503494</td>\n",
       "      <td>0.434528</td>\n",
       "      <td>0.456012</td>\n",
       "      <td>0.247426</td>\n",
       "      <td>0.704053</td>\n",
       "      <td>0.776501</td>\n",
       "      <td>0.627176</td>\n",
       "      <td>1.000000</td>\n",
       "    </tr>\n",
       "  </tbody>\n",
       "</table>\n",
       "</div>"
      ],
      "text/plain": [
       "                    Population  Population_Squared    Murder   Robbery  \\\n",
       "Population            1.000000            0.921278  0.560942  0.446352   \n",
       "Population_Squared    0.921278            1.000000  0.484174  0.286194   \n",
       "Murder                0.560942            0.484174  1.000000  0.270912   \n",
       "Robbery               0.446352            0.286194  0.270912  1.000000   \n",
       "Aggravated_Assault    0.634527            0.629204  0.547073  0.249712   \n",
       "Burglary              0.723548            0.682941  0.582774  0.329743   \n",
       "Larceny_Theft         0.850718            0.821406  0.571495  0.392812   \n",
       "Arson                 0.503494            0.434528  0.456012  0.247426   \n",
       "\n",
       "                    Aggravated_Assault  Burglary  Larceny_Theft     Arson  \n",
       "Population                    0.634527  0.723548       0.850718  0.503494  \n",
       "Population_Squared            0.629204  0.682941       0.821406  0.434528  \n",
       "Murder                        0.547073  0.582774       0.571495  0.456012  \n",
       "Robbery                       0.249712  0.329743       0.392812  0.247426  \n",
       "Aggravated_Assault            1.000000  0.913009       0.750749  0.704053  \n",
       "Burglary                      0.913009  1.000000       0.876253  0.776501  \n",
       "Larceny_Theft                 0.750749  0.876253       1.000000  0.627176  \n",
       "Arson                         0.704053  0.776501       0.627176  1.000000  "
      ]
     },
     "metadata": {},
     "output_type": "display_data"
    },
    {
     "data": {
      "text/plain": [
       "<function matplotlib.pyplot.show>"
      ]
     },
     "execution_count": 146,
     "metadata": {},
     "output_type": "execute_result"
    },
    {
     "data": {
      "image/png": "[encoded data removed]",
      "text/plain": [
       "<matplotlib.figure.Figure at 0x24fc661c4e0>"
      ]
     },
     "metadata": {},
     "output_type": "display_data"
    }
   ],
   "source": [
    "correlation_matrix = X.corr()\n",
    "display(correlation_matrix)\n",
    "\n",
    "# show heatmap\n",
    "sns.heatmap(correlation_matrix)\n",
    "plt.show"
   ]
  },
  {
   "cell_type": "code",
   "execution_count": 148,
   "metadata": {},
   "outputs": [
    {
     "name": "stdout",
     "output_type": "stream",
     "text": [
      "\n",
      "Coefficients: \n",
      " [[  1.82052522e-07   1.08366589e+02   1.00938190e+02   2.84499618e+00\n",
      "    3.74338231e+01]]\n",
      "\n",
      "Intercept: \n",
      " [ 27.26569337]\n",
      "\n",
      "R-squared:\n",
      "0.84249389735\n"
     ]
    }
   ],
   "source": [
    "## Benchmark model\n",
    "\n",
    "# Reinstantiate and fit our model.\n",
    "regr = linear_model.LinearRegression()\n",
    "Y = features['Property_Crime'].values.reshape(-1, 1)\n",
    "X = features[['Population_Squared', 'Murder', 'Robbery',\n",
    "              'Aggravated_Assault', 'Arson']]\n",
    "regr.fit(X, Y)\n",
    "\n",
    "# Inspect the results.\n",
    "print('\\nCoefficients: \\n', regr.coef_)  \n",
    "print('\\nIntercept: \\n', regr.intercept_)\n",
    "print('\\nR-squared:')\n",
    "print(regr.score(X, Y))"
   ]
  },
  {
   "cell_type": "markdown",
   "metadata": {},
   "source": [
    "    Want to add features to the linear formula to compare to the model above. Higher R-Square = better model"
   ]
  },
  {
   "cell_type": "code",
   "execution_count": 155,
   "metadata": {},
   "outputs": [
    {
     "data": {
      "text/html": [
       "<div>\n",
       "<style>\n",
       "    .dataframe thead tr:only-child th {\n",
       "        text-align: right;\n",
       "    }\n",
       "\n",
       "    .dataframe thead th {\n",
       "        text-align: left;\n",
       "    }\n",
       "\n",
       "    .dataframe tbody tr th {\n",
       "        vertical-align: top;\n",
       "    }\n",
       "</style>\n",
       "<table border=\"1\" class=\"dataframe\">\n",
       "  <thead>\n",
       "    <tr style=\"text-align: right;\">\n",
       "      <th></th>\n",
       "      <th>Population_Squared</th>\n",
       "      <th>Murder</th>\n",
       "      <th>Robbery</th>\n",
       "      <th>Aggravated_Assault</th>\n",
       "      <th>Arson</th>\n",
       "    </tr>\n",
       "  </thead>\n",
       "  <tbody>\n",
       "    <tr>\n",
       "      <th>Population_Squared</th>\n",
       "      <td>1.000000</td>\n",
       "      <td>0.484174</td>\n",
       "      <td>0.286194</td>\n",
       "      <td>0.629204</td>\n",
       "      <td>0.434528</td>\n",
       "    </tr>\n",
       "    <tr>\n",
       "      <th>Murder</th>\n",
       "      <td>0.484174</td>\n",
       "      <td>1.000000</td>\n",
       "      <td>0.270912</td>\n",
       "      <td>0.547073</td>\n",
       "      <td>0.456012</td>\n",
       "    </tr>\n",
       "    <tr>\n",
       "      <th>Robbery</th>\n",
       "      <td>0.286194</td>\n",
       "      <td>0.270912</td>\n",
       "      <td>1.000000</td>\n",
       "      <td>0.249712</td>\n",
       "      <td>0.247426</td>\n",
       "    </tr>\n",
       "    <tr>\n",
       "      <th>Aggravated_Assault</th>\n",
       "      <td>0.629204</td>\n",
       "      <td>0.547073</td>\n",
       "      <td>0.249712</td>\n",
       "      <td>1.000000</td>\n",
       "      <td>0.704053</td>\n",
       "    </tr>\n",
       "    <tr>\n",
       "      <th>Arson</th>\n",
       "      <td>0.434528</td>\n",
       "      <td>0.456012</td>\n",
       "      <td>0.247426</td>\n",
       "      <td>0.704053</td>\n",
       "      <td>1.000000</td>\n",
       "    </tr>\n",
       "  </tbody>\n",
       "</table>\n",
       "</div>"
      ],
      "text/plain": [
       "                    Population_Squared    Murder   Robbery  \\\n",
       "Population_Squared            1.000000  0.484174  0.286194   \n",
       "Murder                        0.484174  1.000000  0.270912   \n",
       "Robbery                       0.286194  0.270912  1.000000   \n",
       "Aggravated_Assault            0.629204  0.547073  0.249712   \n",
       "Arson                         0.434528  0.456012  0.247426   \n",
       "\n",
       "                    Aggravated_Assault     Arson  \n",
       "Population_Squared            0.629204  0.434528  \n",
       "Murder                        0.547073  0.456012  \n",
       "Robbery                       0.249712  0.247426  \n",
       "Aggravated_Assault            1.000000  0.704053  \n",
       "Arson                         0.704053  1.000000  "
      ]
     },
     "metadata": {},
     "output_type": "display_data"
    },
    {
     "data": {
      "text/plain": [
       "<function matplotlib.pyplot.show>"
      ]
     },
     "execution_count": 155,
     "metadata": {},
     "output_type": "execute_result"
    },
    {
     "data": {
      "image/png": "[encoded data removed]",
      "text/plain": [
       "<matplotlib.figure.Figure at 0x24fc6c8ba20>"
      ]
     },
     "metadata": {},
     "output_type": "display_data"
    }
   ],
   "source": [
    "correlation_matrix = X.corr()\n",
    "display(correlation_matrix)\n",
    "\n",
    "# show heatmap\n",
    "sns.heatmap(correlation_matrix)\n",
    "plt.show"
   ]
  },
  {
   "cell_type": "code",
   "execution_count": 149,
   "metadata": {
    "collapsed": true
   },
   "outputs": [],
   "source": [
    "# Write out the model formula.\n",
    "# Your dependent variable on the right, independent variables on the left\n",
    "# Use a ~ to represent an '=' from the functional form\n",
    "linear_formula = 'Property_Crime ~ Population_Squared + Murder + Robbery + Aggravated_Assault + Arson'\n",
    "\n",
    "# Fit the model to our data using the formula.\n",
    "lm = smf.ols(formula = linear_formula, data = features).fit()"
   ]
  },
  {
   "cell_type": "code",
   "execution_count": 150,
   "metadata": {},
   "outputs": [
    {
     "data": {
      "text/plain": [
       "Intercept             2.726569e+01\n",
       "Population_Squared    1.820525e-07\n",
       "Murder                1.083666e+02\n",
       "Robbery               1.009382e+02\n",
       "Aggravated_Assault    2.844996e+00\n",
       "Arson                 3.743382e+01\n",
       "dtype: float64"
      ]
     },
     "execution_count": 150,
     "metadata": {},
     "output_type": "execute_result"
    }
   ],
   "source": [
    "# list the parameters\n",
    "lm.params"
   ]
  },
  {
   "cell_type": "code",
   "execution_count": 151,
   "metadata": {},
   "outputs": [
    {
     "data": {
      "text/plain": [
       "Intercept             5.425813e-02\n",
       "Population_Squared    1.980991e-46\n",
       "Murder                3.643348e-03\n",
       "Robbery               2.142953e-06\n",
       "Aggravated_Assault    1.281012e-16\n",
       "Arson                 7.187192e-10\n",
       "dtype: float64"
      ]
     },
     "execution_count": 151,
     "metadata": {},
     "output_type": "execute_result"
    }
   ],
   "source": [
    "# list the p-values\n",
    "lm.pvalues"
   ]
  },
  {
   "cell_type": "code",
   "execution_count": 152,
   "metadata": {
    "scrolled": true
   },
   "outputs": [
    {
     "data": {
      "text/plain": [
       "0.84249389735023095"
      ]
     },
     "execution_count": 152,
     "metadata": {},
     "output_type": "execute_result"
    }
   ],
   "source": [
    "# Calculate the R-Square\n",
    "lm.rsquared"
   ]
  },
  {
   "cell_type": "markdown",
   "metadata": {},
   "source": [
    "    From LinearRegression(), same R-squared value\n",
    "    R-squared: 0.725895265569"
   ]
  },
  {
   "cell_type": "code",
   "execution_count": 153,
   "metadata": {},
   "outputs": [
    {
     "data": {
      "text/html": [
       "<div>\n",
       "<style>\n",
       "    .dataframe thead tr:only-child th {\n",
       "        text-align: right;\n",
       "    }\n",
       "\n",
       "    .dataframe thead th {\n",
       "        text-align: left;\n",
       "    }\n",
       "\n",
       "    .dataframe tbody tr th {\n",
       "        vertical-align: top;\n",
       "    }\n",
       "</style>\n",
       "<table border=\"1\" class=\"dataframe\">\n",
       "  <thead>\n",
       "    <tr style=\"text-align: right;\">\n",
       "      <th></th>\n",
       "      <th>0</th>\n",
       "      <th>1</th>\n",
       "    </tr>\n",
       "  </thead>\n",
       "  <tbody>\n",
       "    <tr>\n",
       "      <th>Intercept</th>\n",
       "      <td>-5.012345e-01</td>\n",
       "      <td>5.503262e+01</td>\n",
       "    </tr>\n",
       "    <tr>\n",
       "      <th>Population_Squared</th>\n",
       "      <td>1.605640e-07</td>\n",
       "      <td>2.035410e-07</td>\n",
       "    </tr>\n",
       "    <tr>\n",
       "      <th>Murder</th>\n",
       "      <td>3.555441e+01</td>\n",
       "      <td>1.811788e+02</td>\n",
       "    </tr>\n",
       "    <tr>\n",
       "      <th>Robbery</th>\n",
       "      <td>5.974532e+01</td>\n",
       "      <td>1.421311e+02</td>\n",
       "    </tr>\n",
       "    <tr>\n",
       "      <th>Aggravated_Assault</th>\n",
       "      <td>2.201779e+00</td>\n",
       "      <td>3.488214e+00</td>\n",
       "    </tr>\n",
       "    <tr>\n",
       "      <th>Arson</th>\n",
       "      <td>2.581361e+01</td>\n",
       "      <td>4.905404e+01</td>\n",
       "    </tr>\n",
       "  </tbody>\n",
       "</table>\n",
       "</div>"
      ],
      "text/plain": [
       "                               0             1\n",
       "Intercept          -5.012345e-01  5.503262e+01\n",
       "Population_Squared  1.605640e-07  2.035410e-07\n",
       "Murder              3.555441e+01  1.811788e+02\n",
       "Robbery             5.974532e+01  1.421311e+02\n",
       "Aggravated_Assault  2.201779e+00  3.488214e+00\n",
       "Arson               2.581361e+01  4.905404e+01"
      ]
     },
     "execution_count": 153,
     "metadata": {},
     "output_type": "execute_result"
    }
   ],
   "source": [
    "# Find Confidence Interval\n",
    "# Column '0' is the lower bound of the 95% confidence interval and column '1' is the upper bound\n",
    "lm.conf_int()"
   ]
  },
  {
   "cell_type": "code",
   "execution_count": 154,
   "metadata": {},
   "outputs": [
    {
     "data": {
      "image/png": "[encoded data removed]",
      "text/plain": [
       "<matplotlib.figure.Figure at 0x24fc661c320>"
      ]
     },
     "metadata": {},
     "output_type": "display_data"
    }
   ],
   "source": [
    "# Use wls_prediction_std to build confidence intervals\n",
    "prstd, iv_l, iv_u = wls_prediction_std(lm)\n",
    "\n",
    "plt.figure()\n",
    "plt.plot(iv_u[0:15], 'o', color='r')\n",
    "plt.plot(iv_l[0:15], 'o', color='r')\n",
    "plt.plot(lm.fittedvalues[0:15], 'o', color='b')\n",
    "plt.title('blue: predicted, red: 95% CI')\n",
    "plt.show()"
   ]
  },
  {
   "cell_type": "markdown",
   "metadata": {},
   "source": [
    "    Normalize the features and run the model again\n",
    "    * run histogram and then use z-normalization\n",
    "    * set the outliers to largest value in normalized data\n",
    "    # There are also few more outliers, will need to remove them or adjust their values for more accurate model"
   ]
  },
  {
   "cell_type": "code",
   "execution_count": 156,
   "metadata": {
    "scrolled": true
   },
   "outputs": [
    {
     "data": {
      "text/html": [
       "<div>\n",
       "<style>\n",
       "    .dataframe thead tr:only-child th {\n",
       "        text-align: right;\n",
       "    }\n",
       "\n",
       "    .dataframe thead th {\n",
       "        text-align: left;\n",
       "    }\n",
       "\n",
       "    .dataframe tbody tr th {\n",
       "        vertical-align: top;\n",
       "    }\n",
       "</style>\n",
       "<table border=\"1\" class=\"dataframe\">\n",
       "  <thead>\n",
       "    <tr style=\"text-align: right;\">\n",
       "      <th></th>\n",
       "      <th>Population</th>\n",
       "      <th>Population_Squared</th>\n",
       "      <th>Murder</th>\n",
       "      <th>Robbery</th>\n",
       "      <th>Aggravated_Assault</th>\n",
       "      <th>Burglary</th>\n",
       "      <th>Larceny_Theft</th>\n",
       "      <th>Arson</th>\n",
       "      <th>Property_Crime</th>\n",
       "    </tr>\n",
       "  </thead>\n",
       "  <tbody>\n",
       "    <tr>\n",
       "      <th>0</th>\n",
       "      <td>1851.0</td>\n",
       "      <td>3.426201e+06</td>\n",
       "      <td>0</td>\n",
       "      <td>0</td>\n",
       "      <td>0.0</td>\n",
       "      <td>1.0</td>\n",
       "      <td>10.0</td>\n",
       "      <td>0.0</td>\n",
       "      <td>11.0</td>\n",
       "    </tr>\n",
       "    <tr>\n",
       "      <th>1</th>\n",
       "      <td>2568.0</td>\n",
       "      <td>6.594624e+06</td>\n",
       "      <td>0</td>\n",
       "      <td>1</td>\n",
       "      <td>1.0</td>\n",
       "      <td>1.0</td>\n",
       "      <td>47.0</td>\n",
       "      <td>0.0</td>\n",
       "      <td>49.0</td>\n",
       "    </tr>\n",
       "    <tr>\n",
       "      <th>2</th>\n",
       "      <td>820.0</td>\n",
       "      <td>6.724000e+05</td>\n",
       "      <td>0</td>\n",
       "      <td>0</td>\n",
       "      <td>0.0</td>\n",
       "      <td>0.0</td>\n",
       "      <td>1.0</td>\n",
       "      <td>0.0</td>\n",
       "      <td>1.0</td>\n",
       "    </tr>\n",
       "    <tr>\n",
       "      <th>3</th>\n",
       "      <td>2842.0</td>\n",
       "      <td>8.076964e+06</td>\n",
       "      <td>0</td>\n",
       "      <td>0</td>\n",
       "      <td>1.0</td>\n",
       "      <td>0.0</td>\n",
       "      <td>17.0</td>\n",
       "      <td>0.0</td>\n",
       "      <td>17.0</td>\n",
       "    </tr>\n",
       "    <tr>\n",
       "      <th>4</th>\n",
       "      <td>98595.0</td>\n",
       "      <td>9.720974e+09</td>\n",
       "      <td>1</td>\n",
       "      <td>1</td>\n",
       "      <td>503.0</td>\n",
       "      <td>683.0</td>\n",
       "      <td>3083.0</td>\n",
       "      <td>12.0</td>\n",
       "      <td>3888.0</td>\n",
       "    </tr>\n",
       "  </tbody>\n",
       "</table>\n",
       "</div>"
      ],
      "text/plain": [
       "   Population  Population_Squared  Murder  Robbery  Aggravated_Assault  \\\n",
       "0      1851.0        3.426201e+06       0        0                 0.0   \n",
       "1      2568.0        6.594624e+06       0        1                 1.0   \n",
       "2       820.0        6.724000e+05       0        0                 0.0   \n",
       "3      2842.0        8.076964e+06       0        0                 1.0   \n",
       "4     98595.0        9.720974e+09       1        1               503.0   \n",
       "\n",
       "   Burglary  Larceny_Theft  Arson  Property_Crime  \n",
       "0       1.0           10.0    0.0            11.0  \n",
       "1       1.0           47.0    0.0            49.0  \n",
       "2       0.0            1.0    0.0             1.0  \n",
       "3       0.0           17.0    0.0            17.0  \n",
       "4     683.0         3083.0   12.0          3888.0  "
      ]
     },
     "execution_count": 156,
     "metadata": {},
     "output_type": "execute_result"
    }
   ],
   "source": [
    "features.head()"
   ]
  },
  {
   "cell_type": "code",
   "execution_count": 157,
   "metadata": {},
   "outputs": [
    {
     "data": {
      "text/html": [
       "<div>\n",
       "<style>\n",
       "    .dataframe thead tr:only-child th {\n",
       "        text-align: right;\n",
       "    }\n",
       "\n",
       "    .dataframe thead th {\n",
       "        text-align: left;\n",
       "    }\n",
       "\n",
       "    .dataframe tbody tr th {\n",
       "        vertical-align: top;\n",
       "    }\n",
       "</style>\n",
       "<table border=\"1\" class=\"dataframe\">\n",
       "  <thead>\n",
       "    <tr style=\"text-align: right;\">\n",
       "      <th></th>\n",
       "      <th>0</th>\n",
       "      <th>1</th>\n",
       "      <th>2</th>\n",
       "      <th>3</th>\n",
       "      <th>4</th>\n",
       "      <th>5</th>\n",
       "      <th>6</th>\n",
       "      <th>7</th>\n",
       "      <th>8</th>\n",
       "    </tr>\n",
       "  </thead>\n",
       "  <tbody>\n",
       "    <tr>\n",
       "      <th>0</th>\n",
       "      <td>0.017987</td>\n",
       "      <td>0.000352</td>\n",
       "      <td>0.0</td>\n",
       "      <td>0.0</td>\n",
       "      <td>0.000000</td>\n",
       "      <td>0.001464</td>\n",
       "      <td>0.003244</td>\n",
       "      <td>0.000000</td>\n",
       "      <td>0.002829</td>\n",
       "    </tr>\n",
       "    <tr>\n",
       "      <th>1</th>\n",
       "      <td>0.025265</td>\n",
       "      <td>0.000678</td>\n",
       "      <td>0.0</td>\n",
       "      <td>1.0</td>\n",
       "      <td>0.001988</td>\n",
       "      <td>0.001464</td>\n",
       "      <td>0.015245</td>\n",
       "      <td>0.000000</td>\n",
       "      <td>0.012603</td>\n",
       "    </tr>\n",
       "    <tr>\n",
       "      <th>2</th>\n",
       "      <td>0.007522</td>\n",
       "      <td>0.000069</td>\n",
       "      <td>0.0</td>\n",
       "      <td>0.0</td>\n",
       "      <td>0.000000</td>\n",
       "      <td>0.000000</td>\n",
       "      <td>0.000324</td>\n",
       "      <td>0.000000</td>\n",
       "      <td>0.000257</td>\n",
       "    </tr>\n",
       "    <tr>\n",
       "      <th>3</th>\n",
       "      <td>0.028046</td>\n",
       "      <td>0.000830</td>\n",
       "      <td>0.0</td>\n",
       "      <td>0.0</td>\n",
       "      <td>0.001988</td>\n",
       "      <td>0.000000</td>\n",
       "      <td>0.005514</td>\n",
       "      <td>0.000000</td>\n",
       "      <td>0.004372</td>\n",
       "    </tr>\n",
       "    <tr>\n",
       "      <th>4</th>\n",
       "      <td>1.000000</td>\n",
       "      <td>1.000000</td>\n",
       "      <td>1.0</td>\n",
       "      <td>1.0</td>\n",
       "      <td>1.000000</td>\n",
       "      <td>1.000000</td>\n",
       "      <td>1.000000</td>\n",
       "      <td>0.631579</td>\n",
       "      <td>1.000000</td>\n",
       "    </tr>\n",
       "  </tbody>\n",
       "</table>\n",
       "</div>"
      ],
      "text/plain": [
       "          0         1    2    3         4         5         6         7  \\\n",
       "0  0.017987  0.000352  0.0  0.0  0.000000  0.001464  0.003244  0.000000   \n",
       "1  0.025265  0.000678  0.0  1.0  0.001988  0.001464  0.015245  0.000000   \n",
       "2  0.007522  0.000069  0.0  0.0  0.000000  0.000000  0.000324  0.000000   \n",
       "3  0.028046  0.000830  0.0  0.0  0.001988  0.000000  0.005514  0.000000   \n",
       "4  1.000000  1.000000  1.0  1.0  1.000000  1.000000  1.000000  0.631579   \n",
       "\n",
       "          8  \n",
       "0  0.002829  \n",
       "1  0.012603  \n",
       "2  0.000257  \n",
       "3  0.004372  \n",
       "4  1.000000  "
      ]
     },
     "execution_count": 157,
     "metadata": {},
     "output_type": "execute_result"
    }
   ],
   "source": [
    "# min max scaler\n",
    "min_max_scaler = preprocessing.MinMaxScaler()\n",
    "features_scaled = min_max_scaler.fit_transform(features)\n",
    "features_normalized = pd.DataFrame(features_scaled)\n",
    "features_normalized.head()"
   ]
  },
  {
   "cell_type": "code",
   "execution_count": null,
   "metadata": {
    "collapsed": true
   },
   "outputs": [],
   "source": []
  }
 ],
 "metadata": {
  "kernelspec": {
   "display_name": "Python 3",
   "language": "python",
   "name": "python3"
  },
  "language_info": {
   "codemirror_mode": {
    "name": "ipython",
    "version": 3
   },
   "file_extension": ".py",
   "mimetype": "text/x-python",
   "name": "python",
   "nbconvert_exporter": "python",
   "pygments_lexer": "ipython3",
   "version": "3.6.1"
  }
 },
 "nbformat": 4,
 "nbformat_minor": 2
}
