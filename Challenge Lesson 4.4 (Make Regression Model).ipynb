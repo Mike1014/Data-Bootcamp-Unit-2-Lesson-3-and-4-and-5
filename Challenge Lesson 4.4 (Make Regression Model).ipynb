{
 "cells": [
  {
   "cell_type": "code",
   "execution_count": 9,
   "metadata": {
    "collapsed": true
   },
   "outputs": [],
   "source": [
    "import pandas as pd\n",
    "import numpy as np\n",
    "import matplotlib.pyplot as plt\n",
    "import seaborn as sns\n",
    "import warnings\n",
    "\n",
    "from sklearn import linear_model\n",
    "from sklearn import preprocessing\n",
    "from IPython.display import display"
   ]
  },
  {
   "cell_type": "code",
   "execution_count": 10,
   "metadata": {
    "collapsed": true
   },
   "outputs": [],
   "source": [
    "# Display preferences.\n",
    "%matplotlib inline\n",
    "pd.options.display.float_format = '{:.3f}'.format\n",
    "\n",
    "# Suppress annoying harmless error.\n",
    "warnings.filterwarnings(\n",
    "    action=\"ignore\",\n",
    "    module=\"scipy\",\n",
    "    message=\"^internal gelsd\"\n",
    ")"
   ]
  },
  {
   "cell_type": "code",
   "execution_count": 32,
   "metadata": {
    "collapsed": true,
    "scrolled": true
   },
   "outputs": [],
   "source": [
    "# import csv file\n",
    "df = pd.read_csv('https://raw.githubusercontent.com/Thinkful-Ed/data-201-resources/master' +\n",
    "                 '/New_York_offenses/NEW_YORK-Offenses_Known_to_Law_Enforcement_by_City_2013%20-%2013tbl8ny.csv')\n",
    "\n",
    "# clean up the dataframe\n",
    "df = df.drop([0,1,2])\n",
    "df = df.rename(columns=df.iloc[0])\n",
    "df = df.rename(columns = {'Murder and\\nnonnegligent\\nmanslaughter':'Murder', 'Property\\ncrime':'Property Crime'})\n",
    "df = df.drop([3])\n",
    "df = df.reset_index(drop = True)"
   ]
  },
  {
   "cell_type": "code",
   "execution_count": 33,
   "metadata": {
    "collapsed": true
   },
   "outputs": [],
   "source": [
    "# Change Population from object to int\n",
    "df['Population'] = df['Population'].str.replace(',', '')\n",
    "df['Population'] = pd.to_numeric(df['Population']).astype(float)\n",
    "\n",
    "# Set up 'Murder', 'Robbery' and 'Property Crime' for later use\n",
    "df['Murder'] = df['Murder'].str.replace(',', '')\n",
    "\n",
    "df['Robbery'] = df['Robbery'].str.replace(',', '')\n",
    "\n",
    "df['Property Crime'] = df['Property Crime'].str.replace(',', '')\n",
    "df['Property Crime'] = pd.to_numeric(df['Property Crime']).astype(float)"
   ]
  },
  {
   "cell_type": "code",
   "execution_count": 34,
   "metadata": {
    "collapsed": true
   },
   "outputs": [],
   "source": [
    "# Create a Feature dataframe\n",
    "features = pd.DataFrame()\n",
    "\n",
    "# set 'Population' and 'Population^2' as feature\n",
    "## in feature, the values will be in thousands\n",
    "features['Population'] = (df['Population'] / 1000).dropna()\n",
    "features['Population^2'] = features['Population']**2"
   ]
  },
  {
   "cell_type": "code",
   "execution_count": 35,
   "metadata": {
    "collapsed": true
   },
   "outputs": [],
   "source": [
    "# set 'Murder' and 'Robbery' as feature\n",
    "# coded any number > 0 as 1\n",
    "# coded any number = 0 as 0\n",
    "features['Murder'] = df['Murder'].dropna()\n",
    "features['Murder'] = features['Murder'].str.contains('0').apply(lambda x:0 if x else 1)\n",
    "\n",
    "features['Robbery'] = df['Robbery'].dropna()\n",
    "features['Robbery'] = features['Robbery'].str.contains('0').apply(lambda x:0 if x else 1)"
   ]
  },
  {
   "cell_type": "code",
   "execution_count": 36,
   "metadata": {
    "collapsed": true
   },
   "outputs": [],
   "source": [
    "# add 'Property Crime' as targeted variable in feature dataframe\n",
    "features['Property Crime'] = df['Property Crime']"
   ]
  },
  {
   "cell_type": "code",
   "execution_count": 37,
   "metadata": {},
   "outputs": [
    {
     "data": {
      "text/html": [
       "<div>\n",
       "<style>\n",
       "    .dataframe thead tr:only-child th {\n",
       "        text-align: right;\n",
       "    }\n",
       "\n",
       "    .dataframe thead th {\n",
       "        text-align: left;\n",
       "    }\n",
       "\n",
       "    .dataframe tbody tr th {\n",
       "        vertical-align: top;\n",
       "    }\n",
       "</style>\n",
       "<table border=\"1\" class=\"dataframe\">\n",
       "  <thead>\n",
       "    <tr style=\"text-align: right;\">\n",
       "      <th></th>\n",
       "      <th>Population</th>\n",
       "      <th>Population^2</th>\n",
       "      <th>Murder</th>\n",
       "      <th>Robbery</th>\n",
       "      <th>Property Crime</th>\n",
       "    </tr>\n",
       "  </thead>\n",
       "  <tbody>\n",
       "    <tr>\n",
       "      <th>0</th>\n",
       "      <td>1.861</td>\n",
       "      <td>3.463</td>\n",
       "      <td>0</td>\n",
       "      <td>0</td>\n",
       "      <td>12.000</td>\n",
       "    </tr>\n",
       "    <tr>\n",
       "      <th>1</th>\n",
       "      <td>2.577</td>\n",
       "      <td>6.641</td>\n",
       "      <td>0</td>\n",
       "      <td>0</td>\n",
       "      <td>24.000</td>\n",
       "    </tr>\n",
       "    <tr>\n",
       "      <th>2</th>\n",
       "      <td>2.846</td>\n",
       "      <td>8.100</td>\n",
       "      <td>0</td>\n",
       "      <td>0</td>\n",
       "      <td>16.000</td>\n",
       "    </tr>\n",
       "    <tr>\n",
       "      <th>3</th>\n",
       "      <td>97.956</td>\n",
       "      <td>9595.378</td>\n",
       "      <td>1</td>\n",
       "      <td>1</td>\n",
       "      <td>4090.000</td>\n",
       "    </tr>\n",
       "    <tr>\n",
       "      <th>4</th>\n",
       "      <td>6.388</td>\n",
       "      <td>40.807</td>\n",
       "      <td>0</td>\n",
       "      <td>1</td>\n",
       "      <td>223.000</td>\n",
       "    </tr>\n",
       "  </tbody>\n",
       "</table>\n",
       "</div>"
      ],
      "text/plain": [
       "   Population  Population^2  Murder  Robbery  Property Crime\n",
       "0       1.861         3.463       0        0          12.000\n",
       "1       2.577         6.641       0        0          24.000\n",
       "2       2.846         8.100       0        0          16.000\n",
       "3      97.956      9595.378       1        1        4090.000\n",
       "4       6.388        40.807       0        1         223.000"
      ]
     },
     "execution_count": 37,
     "metadata": {},
     "output_type": "execute_result"
    }
   ],
   "source": [
    "features.head()"
   ]
  },
  {
   "cell_type": "code",
   "execution_count": 38,
   "metadata": {},
   "outputs": [
    {
     "data": {
      "text/plain": [
       "array([[  1.47374836e-01,   2.74264570e-01,   0.00000000e+00,\n",
       "          0.00000000e+00,   9.50294483e-01],\n",
       "       [  1.02936576e-01,   2.65267557e-01,   0.00000000e+00,\n",
       "          0.00000000e+00,   9.58664271e-01],\n",
       "       [  1.56737189e-01,   4.46074039e-01,   0.00000000e+00,\n",
       "          0.00000000e+00,   8.81164800e-01],\n",
       "       ..., \n",
       "       [  8.71021721e-02,   5.16602983e-01,   0.00000000e+00,\n",
       "          0.00000000e+00,   8.51783171e-01],\n",
       "       [  5.01275127e-03,   9.98209211e-01,   2.51727544e-05,\n",
       "          0.00000000e+00,   5.96090823e-02],\n",
       "       [  2.64739975e-02,   9.70086689e-01,   0.00000000e+00,\n",
       "          7.22484443e-04,   2.41309804e-01]])"
      ]
     },
     "execution_count": 38,
     "metadata": {},
     "output_type": "execute_result"
    }
   ],
   "source": [
    "#normalize method\n",
    "features_normalized = preprocessing.normalize(features, norm='l2')\n",
    "features_normalized"
   ]
  },
  {
   "cell_type": "markdown",
   "metadata": {
    "scrolled": true
   },
   "source": [
    "# min max scaler\n",
    "min_max_scaler = preprocessing.MinMaxScaler()\n",
    "features_scaled = min_max_scaler.fit_transform(features)\n",
    "features_normalized = pd.DataFrame(features_scaled)\n",
    "features_normalized.head()"
   ]
  },
  {
   "cell_type": "markdown",
   "metadata": {},
   "source": [
    "# through normalization formula\n",
    "features_norm = (features - features.mean()) / (features.max() - features.min())\n",
    "features_norm.abs().head()"
   ]
  },
  {
   "cell_type": "code",
   "execution_count": 41,
   "metadata": {},
   "outputs": [
    {
     "name": "stdout",
     "output_type": "stream",
     "text": [
      "\n",
      "Coefficients: \n",
      " [[  3.42627491e+01  -2.06539709e-03   2.29122547e+01  -6.85577640e+01]]\n",
      "\n",
      "Intercept: \n",
      " [-123.51616424]\n",
      "\n",
      "R-squared:\n",
      "0.996111253825\n"
     ]
    }
   ],
   "source": [
    "# Instantiate and fit our model.\n",
    "regr = linear_model.LinearRegression()\n",
    "Y = features['Property Crime'].values.reshape(-1, 1)\n",
    "X = features[['Population', 'Population^2', 'Murder', 'Robbery']]\n",
    "regr.fit(X, Y)\n",
    "\n",
    "# Inspect the results.\n",
    "print('\\nCoefficients: \\n', regr.coef_)\n",
    "print('\\nIntercept: \\n', regr.intercept_)\n",
    "print('\\nR-squared:')\n",
    "print(regr.score(X, Y))"
   ]
  },
  {
   "cell_type": "markdown",
   "metadata": {},
   "source": [
    "    # R-Squared = 0.996 is too high, need to do something..."
   ]
  },
  {
   "cell_type": "code",
   "execution_count": 42,
   "metadata": {},
   "outputs": [
    {
     "data": {
      "image/png": "[encoded data removed]",
      "text/plain": [
       "<matplotlib.figure.Figure at 0x2b656f22668>"
      ]
     },
     "metadata": {},
     "output_type": "display_data"
    }
   ],
   "source": [
    "# Plot scatter graph to identify outliers\n",
    "plt.scatter(Y, X['Population'])\n",
    "plt.title('Raw values')\n",
    "plt.show()"
   ]
  },
  {
   "cell_type": "markdown",
   "metadata": {},
   "source": [
    "    # spotted an outlier that completely mess with the dataset"
   ]
  },
  {
   "cell_type": "code",
   "execution_count": 43,
   "metadata": {},
   "outputs": [
    {
     "name": "stdout",
     "output_type": "stream",
     "text": [
      "     Population  Population^2  Murder  Robbery  Property Crime\n",
      "216    8396.126  70494931.808       1        0      141971.000\n"
     ]
    }
   ],
   "source": [
    "# Remove the outlier\n",
    "loc = features.loc[lambda x: features['Population^2'] == features['Population^2'].max()]\n",
    "print(loc)\n",
    "features = features.drop(loc.index)"
   ]
  },
  {
   "cell_type": "code",
   "execution_count": 44,
   "metadata": {},
   "outputs": [
    {
     "name": "stdout",
     "output_type": "stream",
     "text": [
      "\n",
      "Coefficients: \n",
      " [[  1.35734596e+01   1.12440051e-01   2.16342433e+02   6.93588504e+01]]\n",
      "\n",
      "Intercept: \n",
      " [-9.96299026]\n",
      "\n",
      "R-squared:\n",
      "0.844337942375\n"
     ]
    }
   ],
   "source": [
    "# Reinstantiate and fit our model.\n",
    "regr = linear_model.LinearRegression()\n",
    "Y = features['Property Crime'].values.reshape(-1, 1)\n",
    "X = features[['Population', 'Population^2', 'Murder', 'Robbery']]\n",
    "regr.fit(X, Y)\n",
    "\n",
    "# Inspect the results.\n",
    "print('\\nCoefficients: \\n', regr.coef_)  \n",
    "print('\\nIntercept: \\n', regr.intercept_)\n",
    "print('\\nR-squared:')\n",
    "print(regr.score(X, Y))"
   ]
  },
  {
   "cell_type": "code",
   "execution_count": 45,
   "metadata": {},
   "outputs": [
    {
     "data": {
      "image/png": "[encoded data removed]",
      "text/plain": [
       "<matplotlib.figure.Figure at 0x2b656f809b0>"
      ]
     },
     "metadata": {},
     "output_type": "display_data"
    }
   ],
   "source": [
    "# Plot scatter graph to identify outliers\n",
    "plt.scatter(Y, X['Population'])\n",
    "plt.title('Raw values')\n",
    "plt.show()"
   ]
  },
  {
   "cell_type": "markdown",
   "metadata": {},
   "source": [
    "    # after removing outlier, R-square = 0.844 (reasonably high)\n",
    "\n",
    "        *run histogram and then use z-normalization\n",
    "        * set the outliers to largest value in normalized data\n",
    "    # There are also few more outliers, will need to remove them or adjust their values for more accurate model"
   ]
  },
  {
   "cell_type": "code",
   "execution_count": 47,
   "metadata": {},
   "outputs": [
    {
     "data": {
      "text/html": [
       "<div>\n",
       "<style>\n",
       "    .dataframe thead tr:only-child th {\n",
       "        text-align: right;\n",
       "    }\n",
       "\n",
       "    .dataframe thead th {\n",
       "        text-align: left;\n",
       "    }\n",
       "\n",
       "    .dataframe tbody tr th {\n",
       "        vertical-align: top;\n",
       "    }\n",
       "</style>\n",
       "<table border=\"1\" class=\"dataframe\">\n",
       "  <thead>\n",
       "    <tr style=\"text-align: right;\">\n",
       "      <th></th>\n",
       "      <th>Population</th>\n",
       "      <th>Population^2</th>\n",
       "      <th>Murder</th>\n",
       "      <th>Robbery</th>\n",
       "    </tr>\n",
       "  </thead>\n",
       "  <tbody>\n",
       "    <tr>\n",
       "      <th>Population</th>\n",
       "      <td>1.000</td>\n",
       "      <td>0.889</td>\n",
       "      <td>0.495</td>\n",
       "      <td>0.209</td>\n",
       "    </tr>\n",
       "    <tr>\n",
       "      <th>Population^2</th>\n",
       "      <td>0.889</td>\n",
       "      <td>1.000</td>\n",
       "      <td>0.345</td>\n",
       "      <td>0.065</td>\n",
       "    </tr>\n",
       "    <tr>\n",
       "      <th>Murder</th>\n",
       "      <td>0.495</td>\n",
       "      <td>0.345</td>\n",
       "      <td>1.000</td>\n",
       "      <td>0.163</td>\n",
       "    </tr>\n",
       "    <tr>\n",
       "      <th>Robbery</th>\n",
       "      <td>0.209</td>\n",
       "      <td>0.065</td>\n",
       "      <td>0.163</td>\n",
       "      <td>1.000</td>\n",
       "    </tr>\n",
       "  </tbody>\n",
       "</table>\n",
       "</div>"
      ],
      "text/plain": [
       "              Population  Population^2  Murder  Robbery\n",
       "Population         1.000         0.889   0.495    0.209\n",
       "Population^2       0.889         1.000   0.345    0.065\n",
       "Murder             0.495         0.345   1.000    0.163\n",
       "Robbery            0.209         0.065   0.163    1.000"
      ]
     },
     "metadata": {},
     "output_type": "display_data"
    },
    {
     "data": {
      "text/plain": [
       "<function matplotlib.pyplot.show>"
      ]
     },
     "execution_count": 47,
     "metadata": {},
     "output_type": "execute_result"
    },
    {
     "data": {
      "image/png": "[encoded data removed]",
      "text/plain": [
       "<matplotlib.figure.Figure at 0x2b65702a2e8>"
      ]
     },
     "metadata": {},
     "output_type": "display_data"
    }
   ],
   "source": [
    "correlation_matrix = X.corr()\n",
    "display(correlation_matrix)\n",
    "\n",
    "# show heatmap\n",
    "sns.heatmap(correlation_matrix)\n",
    "plt.show"
   ]
  },
  {
   "cell_type": "markdown",
   "metadata": {},
   "source": [
    "# remove of Population because correlation is too high"
   ]
  },
  {
   "cell_type": "code",
   "execution_count": 50,
   "metadata": {},
   "outputs": [
    {
     "name": "stdout",
     "output_type": "stream",
     "text": [
      "\n",
      "Coefficients: \n",
      " [[  1.71449698e-01   4.24923936e+02   1.61383294e+02]]\n",
      "\n",
      "Intercept: \n",
      " [ 68.48463067]\n",
      "\n",
      "R-squared:\n",
      "0.824777477\n"
     ]
    }
   ],
   "source": [
    "# Reinstantiate and fit our model.\n",
    "regr = linear_model.LinearRegression()\n",
    "Y = features['Property Crime'].values.reshape(-1, 1)\n",
    "X = features[['Population^2', 'Murder', 'Robbery']]\n",
    "regr.fit(X, Y)\n",
    "\n",
    "# Inspect the results.\n",
    "print('\\nCoefficients: \\n', regr.coef_)  \n",
    "print('\\nIntercept: \\n', regr.intercept_)\n",
    "print('\\nR-squared:')\n",
    "print(regr.score(X, Y))"
   ]
  },
  {
   "cell_type": "markdown",
   "metadata": {},
   "source": [
    "    # I decided with population^2 beacuse R-squared value was higher\n",
    "    \n",
    "        Property Crime = Intercept (alpha) + \n",
    "                     Coef_1 * Population^2 +\n",
    "                     Coef_2 * Murder +\n",
    "                     Coef_3 * Robbery\n",
    "                     \n",
    "    * need to explain the results\n",
    "    \n",
    "    * find other metrics in the scklit package"
   ]
  },
  {
   "cell_type": "code",
   "execution_count": 51,
   "metadata": {},
   "outputs": [
    {
     "data": {
      "text/html": [
       "<div>\n",
       "<style>\n",
       "    .dataframe thead tr:only-child th {\n",
       "        text-align: right;\n",
       "    }\n",
       "\n",
       "    .dataframe thead th {\n",
       "        text-align: left;\n",
       "    }\n",
       "\n",
       "    .dataframe tbody tr th {\n",
       "        vertical-align: top;\n",
       "    }\n",
       "</style>\n",
       "<table border=\"1\" class=\"dataframe\">\n",
       "  <thead>\n",
       "    <tr style=\"text-align: right;\">\n",
       "      <th></th>\n",
       "      <th>Population^2</th>\n",
       "      <th>Murder</th>\n",
       "      <th>Robbery</th>\n",
       "    </tr>\n",
       "  </thead>\n",
       "  <tbody>\n",
       "    <tr>\n",
       "      <th>Population^2</th>\n",
       "      <td>1.000</td>\n",
       "      <td>0.345</td>\n",
       "      <td>0.065</td>\n",
       "    </tr>\n",
       "    <tr>\n",
       "      <th>Murder</th>\n",
       "      <td>0.345</td>\n",
       "      <td>1.000</td>\n",
       "      <td>0.163</td>\n",
       "    </tr>\n",
       "    <tr>\n",
       "      <th>Robbery</th>\n",
       "      <td>0.065</td>\n",
       "      <td>0.163</td>\n",
       "      <td>1.000</td>\n",
       "    </tr>\n",
       "  </tbody>\n",
       "</table>\n",
       "</div>"
      ],
      "text/plain": [
       "              Population^2  Murder  Robbery\n",
       "Population^2         1.000   0.345    0.065\n",
       "Murder               0.345   1.000    0.163\n",
       "Robbery              0.065   0.163    1.000"
      ]
     },
     "metadata": {},
     "output_type": "display_data"
    },
    {
     "data": {
      "text/plain": [
       "<function matplotlib.pyplot.show>"
      ]
     },
     "execution_count": 51,
     "metadata": {},
     "output_type": "execute_result"
    },
    {
     "data": {
      "image/png": "[encoded data removed]",
      "text/plain": [
       "<matplotlib.figure.Figure at 0x2b656f41048>"
      ]
     },
     "metadata": {},
     "output_type": "display_data"
    }
   ],
   "source": [
    "correlation_matrix = X.corr()\n",
    "display(correlation_matrix)\n",
    "\n",
    "# show heatmap\n",
    "sns.heatmap(correlation_matrix)\n",
    "plt.show"
   ]
  },
  {
   "cell_type": "code",
   "execution_count": 56,
   "metadata": {},
   "outputs": [
    {
     "data": {
      "image/png": "[encoded data removed]",
      "text/plain": [
       "<matplotlib.figure.Figure at 0x2b6572191d0>"
      ]
     },
     "metadata": {},
     "output_type": "display_data"
    }
   ],
   "source": [
    "# Extract predicted values.\n",
    "predicted = regr.predict(X).ravel()\n",
    "actual = features['Property Crime']\n",
    "\n",
    "# Calculate the error, also called the residual.\n",
    "residual = actual - predicted\n",
    "\n",
    "### added this to normalize the data to avoid skewness\n",
    "residual = residual.abs() ** (1/20)     \n",
    "\n",
    "# This looks a bit concerning.\n",
    "plt.hist(residual)\n",
    "plt.title('Residual counts')\n",
    "plt.xlabel('Residual')\n",
    "plt.ylabel('Count')\n",
    "plt.show()"
   ]
  },
  {
   "cell_type": "code",
   "execution_count": 403,
   "metadata": {},
   "outputs": [
    {
     "data": {
      "image/png": "[encoded data removed]",
      "text/plain": [
       "<matplotlib.figure.Figure at 0x227fee42358>"
      ]
     },
     "metadata": {},
     "output_type": "display_data"
    }
   ],
   "source": [
    "plt.scatter(predicted, residual)\n",
    "plt.xlabel('Predicted')\n",
    "plt.ylabel('Residual')\n",
    "plt.axhline(y = 1.2)\n",
    "plt.title('Residual vs. Predicted')\n",
    "plt.show()"
   ]
  },
  {
   "cell_type": "code",
   "execution_count": 60,
   "metadata": {
    "scrolled": false
   },
   "outputs": [
    {
     "data": {
      "image/png": "[encoded data removed]",
      "text/plain": [
       "<matplotlib.figure.Figure at 0x2b657184cf8>"
      ]
     },
     "metadata": {},
     "output_type": "display_data"
    }
   ],
   "source": [
    "# this is to determine the linear relationship between the variables\n",
    "## shouldn't apply to categorical variable \n",
    "\n",
    "g = sns.lmplot(y = 'Property Crime', \n",
    "               x = 'Population^2',\n",
    "               data = features, # Data.\n",
    "               fit_reg = True, # The regression line also includes a 95% confidence envelope.\n",
    "               scatter_kws = {'alpha':0.4})\n",
    "g.set_ylabels(\"Property Crime\")\n",
    "g.set_xlabels(x)\n",
    "sns.plt.title('Scatterplot with regression line: Property Crime + ' +  x)\n",
    "plt.show()"
   ]
  },
  {
   "cell_type": "code",
   "execution_count": null,
   "metadata": {
    "collapsed": true
   },
   "outputs": [],
   "source": []
  },
  {
   "cell_type": "code",
   "execution_count": null,
   "metadata": {
    "collapsed": true
   },
   "outputs": [],
   "source": []
  }
 ],
 "metadata": {
  "kernelspec": {
   "display_name": "Python 3",
   "language": "python",
   "name": "python3"
  },
  "language_info": {
   "codemirror_mode": {
    "name": "ipython",
    "version": 3
   },
   "file_extension": ".py",
   "mimetype": "text/x-python",
   "name": "python",
   "nbconvert_exporter": "python",
   "pygments_lexer": "ipython3",
   "version": "3.6.1"
  }
 },
 "nbformat": 4,
 "nbformat_minor": 2
}
